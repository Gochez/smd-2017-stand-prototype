{
 "cells": [
  {
   "cell_type": "markdown",
   "metadata": {},
   "source": [
    "![Happy Punk Panda Logo](http://pnd.as/nerds/smd-2017/hpp-logo.png)\n",
    "\n",
    "\n",
    "*Copyright© Happy Punk Panda - Todos los derechos reservados. Copiar o distribuir este documento por cualquier medio está estrictamente prohibido. Propiedad intelectual y confidencial.*\n",
    "\n",
    "\n",
    "*Este documento contiene información confidencial y solo está dirigida al destinatario del mismo pues la información es privilegiada. Está prohibido que cualquier persona distinta al destinatario consuma, copie o distribuya este documento. Si usted no es el destinatario, por favor notifique esto de inmediato a hello@happypunkpanda.com y destruya el documento, y todas las copias que existan del mismo.*"
   ]
  },
  {
   "cell_type": "markdown",
   "metadata": {},
   "source": [
    "<h1 style=\"text-align: center\">PROTOTYPE: STAND SMD 2017</h1>\n",
    "***"
   ]
  },
  {
   "cell_type": "code",
   "execution_count": 1,
   "metadata": {
    "collapsed": true
   },
   "outputs": [],
   "source": [
    "import serial\n",
    "import time\n",
    "import pandas as pd"
   ]
  },
  {
   "cell_type": "code",
   "execution_count": 2,
   "metadata": {
    "collapsed": false
   },
   "outputs": [],
   "source": [
    "# Global Variables\n",
    "nseconds = 5\n",
    "nrounds = 3\n",
    "team1 = 'Red Corner'\n",
    "team2 = 'Blue Corner'\n",
    "arduino_port = '/dev/cu.usbmodem1411'\n",
    "\n",
    "# Load Arduino Encoding Data\n",
    "encoding = pd.read_csv('data/encoding.csv', encoding='utf-8', index_col='index')\n",
    "\n",
    "# Establish the connection on Arduino's port\n",
    "ser = serial.Serial(arduino_port, 9600, timeout=1) "
   ]
  },
  {
   "cell_type": "code",
   "execution_count": 3,
   "metadata": {
    "collapsed": true
   },
   "outputs": [],
   "source": [
    "# Functions \n",
    "\n",
    "def pick_round_winner(choices, round_number):\n",
    "    \n",
    "    \"\"\"\n",
    "    Returns name of round winner as string.\n",
    "    \n",
    "    choices: Dataframe with choices from all rounds with rounds as index.\n",
    "    round_number: The number of the round as string.\n",
    "    \"\"\"\n",
    "    \n",
    "    # Setting Variables\n",
    "    winner = None\n",
    "    team1_choice = choices.loc[r, team1]\n",
    "    team2_choice = choices.loc[r, team2]\n",
    "    \n",
    "    if team1_choice == team2_choice:\n",
    "        print r.upper() + ' ITS A DRAWWWW!'\n",
    "    \n",
    "    # All posible ways Team 1 can win\n",
    "    elif ((team2_choice == 'Nada') | \n",
    "         ((team1_choice == 'Piedra') & (team2_choice == 'Tijeras')) |\n",
    "         ((team1_choice == 'Papel') & (team2_choice == 'Piedra')) |\n",
    "         ((team1_choice == 'Tijeras') & (team2_choice == 'Papel'))):\n",
    "        \n",
    "        winner = team1\n",
    "        print team1.upper() + ' WINS ' + r.upper()\n",
    "    \n",
    "    else:\n",
    "        winner = team2\n",
    "        print team2.upper() + ' WINS ' + r.upper()\n",
    "    \n",
    "    return winner"
   ]
  },
  {
   "cell_type": "code",
   "execution_count": null,
   "metadata": {
    "collapsed": false
   },
   "outputs": [],
   "source": [
    "# Clean Buffer before starting game\n",
    "ser.reset_input_buffer()\n",
    "\n",
    "while True:\n",
    "    \n",
    "    msg = ser.read()\n",
    "    if msg == '7':\n",
    "        \n",
    "        print 'Ready?'\n",
    "\n",
    "        rounds = ['Round ' + str(n) for n in range(1, nrounds + 1)]\n",
    "        score = pd.DataFrame(0, columns=[team1, team2], index=rounds)\n",
    "        choices = pd.DataFrame(0, columns=[team1, team2], index=rounds)\n",
    "\n",
    "        for r in rounds:\n",
    "\n",
    "            time.sleep(0.5)\n",
    "            print r.upper()\n",
    "            time.sleep(0.5)\n",
    "            print '3'\n",
    "            time.sleep(0.75)\n",
    "            print '2'\n",
    "            time.sleep(0.75)\n",
    "            print '1'\n",
    "            time.sleep(0.75)\n",
    "            print 'GO! \\n'\n",
    "\n",
    "            ser.reset_input_buffer() \n",
    "            timeout = time.time() + nseconds   # nseconds from now\n",
    "\n",
    "            team1_choice = 0\n",
    "            team2_choice = 0\n",
    "\n",
    "            while (team1_choice == 0) | (team2_choice == 0):\n",
    "\n",
    "                # Stop de Round After nseconds\n",
    "                if time.time() > timeout:\n",
    "                    print 'TIME!'\n",
    "                    break\n",
    "\n",
    "                # Read Data From Arudino\n",
    "                msg = ser.read()\n",
    "\n",
    "                # Asign First Choice on Each Team\n",
    "                if (msg in ['1', '2', '3']) & (team1_choice == 0):\n",
    "                        team1_choice = int(msg)\n",
    "                        print team1 + ' Is Ready'\n",
    "                elif (msg in ['4', '5', '6']) & (team2_choice == 0):\n",
    "                        team2_choice = int(msg)\n",
    "                        print team2 + ' Is Ready'\n",
    "\n",
    "            # Saving Choices\n",
    "            choices.loc[r, team1] = encoding.iloc[team1_choice][0]\n",
    "            choices.loc[r, team2] = encoding.iloc[team2_choice][0]   \n",
    "\n",
    "            # Printing Choices\n",
    "            time.sleep(1.5)\n",
    "            print '\\n' + team1 + ' picked ' + choices.loc[r, team1]\n",
    "            time.sleep(1.5)\n",
    "            print team2 + ' picked ' + choices.loc[r, team2] + '\\n'\n",
    "            time.sleep(1.5)\n",
    "\n",
    "            # Declaring Round Winner\n",
    "            winner = pick_round_winner(choices, r)\n",
    "\n",
    "            # Saving & Printing Score \n",
    "            if winner != None:\n",
    "                score.loc[r, winner] = 1\n",
    "\n",
    "            time.sleep(1.5)\n",
    "            print '\\nSCORE:'\n",
    "            time.sleep(0.5)\n",
    "            print team1 + ':' + str(score[team1].sum())\n",
    "            time.sleep(0.5)\n",
    "            print team2 + ':' + str(score[team2].sum())\n",
    "            print '\\n'\n",
    "\n",
    "            # Stop the Game if Score Difference is Greater Than Number of Remaining Rounds\n",
    "            score_diff = abs(score[team1].sum() - score[team2].sum())\n",
    "            rounds_remain = nrounds - (rounds.index(r) + 1)\n",
    "            if score_diff > rounds_remain:\n",
    "                break\n",
    "\n",
    "            # Time Between Rounds (Ignore last round)\n",
    "            if r != rounds[-1]:\n",
    "                time.sleep(2)\n",
    "\n",
    "        # Final Result        \n",
    "        time.sleep(0.5)\n",
    "        if score[team1].sum() == score[team2].sum():\n",
    "            print 'FINAL RESULT: ITS A DRAW'\n",
    "        elif score[team1].sum() > score[team2].sum():\n",
    "            print 'FINAL RESULT: ' + team1.upper() + ' WINS'\n",
    "        else:\n",
    "            print 'FINAL RESULT: ' + team2.upper() + ' WINS'\n",
    "\n",
    "        # Closing Message\n",
    "        time.sleep(1.5)\n",
    "        print '\\n'\n",
    "        print 'Happy Social Fucking Media Day!'\n",
    "        \n",
    "        # Clean Buffer before ending game\n",
    "        ser.reset_input_buffer()"
   ]
  },
  {
   "cell_type": "markdown",
   "metadata": {},
   "source": [
    "# Versions"
   ]
  },
  {
   "cell_type": "code",
   "execution_count": 15,
   "metadata": {
    "collapsed": false
   },
   "outputs": [
    {
     "data": {
      "application/json": {
       "Software versions": [
        {
         "module": "Python",
         "version": "2.7.11 64bit [GCC 4.2.1 (Apple Inc. build 5577)]"
        },
        {
         "module": "IPython",
         "version": "5.0.0"
        },
        {
         "module": "OS",
         "version": "Darwin 15.6.0 x86_64 i386 64bit"
        },
        {
         "module": "serial",
         "version": "3.1.1"
        },
        {
         "module": "pandas",
         "version": "0.18.1"
        }
       ]
      },
      "text/html": [
       "<table><tr><th>Software</th><th>Version</th></tr><tr><td>Python</td><td>2.7.11 64bit [GCC 4.2.1 (Apple Inc. build 5577)]</td></tr><tr><td>IPython</td><td>5.0.0</td></tr><tr><td>OS</td><td>Darwin 15.6.0 x86_64 i386 64bit</td></tr><tr><td>serial</td><td>3.1.1</td></tr><tr><td>pandas</td><td>0.18.1</td></tr><tr><td colspan='2'>Sun Jun 04 11:46:39 2017 CST</td></tr></table>"
      ],
      "text/latex": [
       "\\begin{tabular}{|l|l|}\\hline\n",
       "{\\bf Software} & {\\bf Version} \\\\ \\hline\\hline\n",
       "Python & 2.7.11 64bit [GCC 4.2.1 (Apple Inc. build 5577)] \\\\ \\hline\n",
       "IPython & 5.0.0 \\\\ \\hline\n",
       "OS & Darwin 15.6.0 x86\\_64 i386 64bit \\\\ \\hline\n",
       "serial & 3.1.1 \\\\ \\hline\n",
       "pandas & 0.18.1 \\\\ \\hline\n",
       "\\hline \\multicolumn{2}{|l|}{Sun Jun 04 11:46:39 2017 CST} \\\\ \\hline\n",
       "\\end{tabular}\n"
      ],
      "text/plain": [
       "Software versions\n",
       "Python 2.7.11 64bit [GCC 4.2.1 (Apple Inc. build 5577)]\n",
       "IPython 5.0.0\n",
       "OS Darwin 15.6.0 x86_64 i386 64bit\n",
       "serial 3.1.1\n",
       "pandas 0.18.1\n",
       "Sun Jun 04 11:46:39 2017 CST"
      ]
     },
     "execution_count": 15,
     "metadata": {},
     "output_type": "execute_result"
    }
   ],
   "source": [
    "%reload_ext version_information\n",
    "\n",
    "%version_information serial, pandas"
   ]
  }
 ],
 "metadata": {
  "celltoolbar": "Initialisation Cell",
  "hide_input": false,
  "kernelspec": {
   "display_name": "Python 2",
   "language": "python",
   "name": "python2"
  },
  "language_info": {
   "codemirror_mode": {
    "name": "ipython",
    "version": 2
   },
   "file_extension": ".py",
   "mimetype": "text/x-python",
   "name": "python",
   "nbconvert_exporter": "python",
   "pygments_lexer": "ipython2",
   "version": "2.7.11"
  },
  "toc": {
   "navigate_menu": false,
   "number_sections": false,
   "sideBar": false,
   "threshold": 6,
   "toc_cell": false,
   "toc_section_display": "block",
   "toc_window_display": false
  }
 },
 "nbformat": 4,
 "nbformat_minor": 0
}
